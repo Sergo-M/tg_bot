{
 "cells": [
  {
   "cell_type": "code",
   "execution_count": 1,
   "id": "c2d3f8b1",
   "metadata": {},
   "outputs": [],
   "source": [
    "import telebot\n",
    "import conf\n",
    "import requests"
   ]
  },
  {
   "cell_type": "code",
   "execution_count": 2,
   "id": "92875263",
   "metadata": {},
   "outputs": [],
   "source": [
    "bot = telebot.TeleBot(conf.TOKEN)"
   ]
  },
  {
   "cell_type": "code",
   "execution_count": null,
   "id": "f992b8fc",
   "metadata": {},
   "outputs": [],
   "source": [
    "@bot.message_handler(commands=['start', 'help'])\n",
    "def send_welcome(message):\n",
    "    bot.send_message(message.chat.id, \"Здравствуйте! Это бот, который считает длину вашего сообщения.\")"
   ]
  },
  {
   "cell_type": "code",
   "execution_count": null,
   "id": "958ae757",
   "metadata": {},
   "outputs": [],
   "source": [
    "if __name__ == '__main__':\n",
    "    bot.polling(none_stop=True)"
   ]
  },
  {
   "cell_type": "code",
   "execution_count": 12,
   "id": "54f7314b",
   "metadata": {},
   "outputs": [],
   "source": [
    "import telebot\n",
    "from telebot import types\n",
    "import conf\n",
    "import requests\n",
    "\n",
    "bot = telebot.TeleBot(conf.TOKEN)\n",
    "\n",
    "@bot.message_handler(commands=['start', 'help'])\n",
    "def send_welcome(message):    \n",
    "    bot.reply_to(message, \"Привет, \" + message.from_user.first_name + \"!\")\n",
    "    bot.send_message(message.chat.id, 'Этот бот умеет присылать треды с ресурса Двач.')\n",
    "    menu(message)\n",
    "    \n",
    "@bot.message_handler(commands=['help'])\n",
    "def repeat_all_messages(message):\n",
    "    keyboard = types.InlineKeyboardMarkup()\n",
    "    button1 = types.InlineKeyboardButton(text=\"Привет! 👋\", callback_data=\"button1\")\n",
    "    button2 = types.InlineKeyboardButton(text=\"Кнопка 2\", callback_data=\"button2\")\n",
    "    keyboard.add(button1)\n",
    "    keyboard.add(button2)\n",
    "\n",
    "    bot.send_message(message.chat.id, \"Нажмите кнопку!\", reply_markup=keyboard)\n",
    "\n",
    "@bot.callback_query_handler(func=lambda call: True)\n",
    "def callback_inline(call):\n",
    "    if call.data == \"button1\":\n",
    "        keyboard = types.InlineKeyboardMarkup()\n",
    "        button1 = types.InlineKeyboardButton(text=\"Случайный тред\", callback_data=\"button3\")\n",
    "        button2 = types.InlineKeyboardButton(text=\"Случайный тред по ключевому слову\", callback_data=\"button4\")\n",
    "        button3 = types.InlineKeyboardButton(text=\"Вернуться\", callback_data=\"button5\")\n",
    "        \n",
    "        keyboard.add(button1)\n",
    "        keyboard.add(button2)\n",
    "        \n",
    "        bot.send_message(call.message.chat.id, \"Чего ты хочешь?\", reply_markup=keyboard)\n",
    "        \n",
    "    elif call.data == \"button2\":\n",
    "        bot.send_message(call.message.chat.id, \"Информация\")\n",
    "        \n",
    "        menu(call.message)\n",
    "        \n",
    "    elif call.data == \"button3\":\n",
    "        bot.send_message(call.message.chat.id, \"Тред\")\n",
    "        \n",
    "        menu(call.message)\n",
    "        \n",
    "    elif call.data == \"button4\":\n",
    "        bot.send_message(call.message.chat.id, \"Тред\")\n",
    "        \n",
    "        menu(call.message)\n",
    "        \n",
    "    elif call.data == \"button5\":\n",
    "        menu(call.message)\n",
    "    \n",
    "def menu(message):\n",
    "    keyboard = types.InlineKeyboardMarkup()\n",
    "    button1 = types.InlineKeyboardButton(text=\"Пришли мне тред\", callback_data=\"button1\")\n",
    "    button2 = types.InlineKeyboardButton(text=\"О боте\", callback_data=\"button2\")\n",
    "    \n",
    "    keyboard.add(button1)\n",
    "    keyboard.add(button2)\n",
    "    \n",
    "    bot.send_message(message.chat.id, \"Начнём?\", reply_markup=keyboard)\n",
    "        \n",
    "if __name__ == '__main__':\n",
    "    bot.polling(none_stop=True)"
   ]
  }
 ],
 "metadata": {
  "kernelspec": {
   "display_name": "Python 3 (ipykernel)",
   "language": "python",
   "name": "python3"
  },
  "language_info": {
   "codemirror_mode": {
    "name": "ipython",
    "version": 3
   },
   "file_extension": ".py",
   "mimetype": "text/x-python",
   "name": "python",
   "nbconvert_exporter": "python",
   "pygments_lexer": "ipython3",
   "version": "3.9.1"
  }
 },
 "nbformat": 4,
 "nbformat_minor": 5
}
